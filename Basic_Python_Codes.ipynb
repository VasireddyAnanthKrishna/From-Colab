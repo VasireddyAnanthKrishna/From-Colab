{
  "nbformat": 4,
  "nbformat_minor": 0,
  "metadata": {
    "colab": {
      "provenance": [],
      "authorship_tag": "ABX9TyMvHEPfUBjHMo6Su8b4v+9h",
      "include_colab_link": true
    },
    "kernelspec": {
      "name": "python3",
      "display_name": "Python 3"
    },
    "language_info": {
      "name": "python"
    }
  },
  "cells": [
    {
      "cell_type": "markdown",
      "metadata": {
        "id": "view-in-github",
        "colab_type": "text"
      },
      "source": [
        "<a href=\"https://colab.research.google.com/github/VasireddyAnanthKrishna/From-Colab/blob/main/Basic_Python_Codes.ipynb\" target=\"_parent\"><img src=\"https://colab.research.google.com/assets/colab-badge.svg\" alt=\"Open In Colab\"/></a>"
      ]
    },
    {
      "cell_type": "code",
      "execution_count": 1,
      "metadata": {
        "colab": {
          "base_uri": "https://localhost:8080/"
        },
        "id": "7P_yybI5vCYa",
        "outputId": "7d43c31b-2cb6-4687-a423-2f9ae894af9d"
      },
      "outputs": [
        {
          "output_type": "stream",
          "name": "stdout",
          "text": [
            "Hello World\n"
          ]
        }
      ],
      "source": [
        "# Hello World Program in Python\n",
        "print('Hello World')"
      ]
    },
    {
      "cell_type": "code",
      "source": [
        "# Python code showing a simple numerical example\n",
        "x=2\n",
        "print(x)\n",
        "x=x+2\n",
        "print(x)"
      ],
      "metadata": {
        "colab": {
          "base_uri": "https://localhost:8080/"
        },
        "id": "GOevikg6vgpe",
        "outputId": "3aeabfe4-4958-41f4-e7cd-e196c029bba9"
      },
      "execution_count": 2,
      "outputs": [
        {
          "output_type": "stream",
          "name": "stdout",
          "text": [
            "2\n",
            "4\n"
          ]
        }
      ]
    },
    {
      "cell_type": "code",
      "source": [
        "# Python code using an \"if\" decision\n",
        "n=5\n",
        "if (n>5):\n",
        "  print(\"n is greater than 5\")\n",
        "else:\n",
        "  print(\"n is less than or equal to 5\")"
      ],
      "metadata": {
        "colab": {
          "base_uri": "https://localhost:8080/"
        },
        "id": "1fuNdmoNvvc2",
        "outputId": "ff3c2926-2aad-4cc6-94da-07a810875ec8"
      },
      "execution_count": 6,
      "outputs": [
        {
          "output_type": "stream",
          "name": "stdout",
          "text": [
            "n is less than or equal to 5\n"
          ]
        }
      ]
    },
    {
      "cell_type": "code",
      "source": [
        "# Python code using a \"while\" loop\n",
        "a=5\n",
        "while (a>0):\n",
        "  print(a)\n",
        "  a=a-1\n",
        "print('Finished!')"
      ],
      "metadata": {
        "colab": {
          "base_uri": "https://localhost:8080/"
        },
        "id": "ONSVgFlFwNge",
        "outputId": "1b893a9e-a9e4-41d5-99fe-85d4d837536c"
      },
      "execution_count": 7,
      "outputs": [
        {
          "output_type": "stream",
          "name": "stdout",
          "text": [
            "5\n",
            "4\n",
            "3\n",
            "2\n",
            "1\n",
            "Finished!\n"
          ]
        }
      ]
    }
  ]
}